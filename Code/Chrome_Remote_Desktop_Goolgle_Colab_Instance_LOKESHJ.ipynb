{
  "nbformat": 4,
  "nbformat_minor": 0,
  "metadata": {
    "colab": {
      "name": "Chrome_Remote_Desktop_Goolgle_Colab_Instance_LOKESHJ.ipynb",
      "provenance": [],
      "collapsed_sections": []
    },
    "kernelspec": {
      "name": "python3",
      "display_name": "Python 3"
    },
    "language_info": {
      "name": "python"
    }
  },
  "cells": [
    {
      "cell_type": "code",
      "execution_count": 4,
      "metadata": {
        "colab": {
          "base_uri": "https://localhost:8080/"
        },
        "cellView": "form",
        "id": "PcVQ-wYIVYWV",
        "outputId": "5850dbdd-038b-4606-a208-99a76918f490"
      },
      "outputs": [
        {
          "output_type": "stream",
          "name": "stdout",
          "text": [
            "Creating User and Setting it up\n",
            "User created and configured having username `user` and password `root`\n"
          ]
        }
      ],
      "source": [
        "#@title **Create User**\n",
        "#@markdown Enter Username and Password\n",
        "\n",
        "import os\n",
        "import subprocess\n",
        "username = \"user\" #@param {type:\"string\"}\n",
        "password = \"root\" #@param {type:\"string\"}\n",
        "\n",
        "print(\"Creating User and Setting it up\")\n",
        "\n",
        "# Creation of user, adding to sudoers, adding password to user\n",
        "os.system(\"useradd -m \"+username)\n",
        "os.system(f\"adduser \"+username+\" sudo\")\n",
        "os.system(f\"echo '{username}:{password}' | sudo chpasswd\")\n",
        "\n",
        "# Change default shell from sh to bash\n",
        "os.system(\"sed -i 's/\\/bin\\/sh/\\/bin\\/bash/g' /etc/passwd\")\n",
        "\n",
        "print(f\"User created and configured having username `{username}` and password `{password}`\")"
      ]
    },
    {
      "cell_type": "code",
      "source": [
        "#@title **Chrome Remote Desktop**\n",
        "import sys\n",
        "#@markdown  Visit http://remotedesktop.google.com/headless\n",
        "#@markdown ---\n",
        "#@markdown Copy the command after Authentication and paste debian Linux command below.\n",
        "\n",
        "CRP = \"DISPLAY= /opt/google/chrome-remote-desktop/start-host --code=\\\"4/0AX4XfWjVTWJWp8N53bYruuRkwRqVhXHJCUcZOfoC0qUqnVmC6uQBUK_EdJuZKBT5_iQxUw\\\" --redirect-url=\\\"https://remotedesktop.google.com/_/oauthredirect\\\" --name=$(hostname)\" #@param {type:\"string\"}\n",
        "\n",
        "#@markdown Enter a Pin (more or equal to 6 digits)\n",
        "\n",
        "Pin =  123456#@param {type: \"integer\"}\n",
        "if CRP == \"\":\n",
        "        print(\"Please enter authcode from the given link\")\n",
        "         \n",
        "elif len(str(Pin)) < 6:\n",
        "        print(\"Enter a pin more or equal to 6 digits\")\n",
        "        \n",
        "else:\n",
        "  \n",
        "  os.system(\"apt update\")\n",
        "\n",
        "  print(\"Installing Chrome Remote Desktop\")\n",
        "  os.system('wget https://dl.google.com/linux/direct/chrome-remote-desktop_current_amd64.deb')\n",
        "  os.system('dpkg --install chrome-remote-desktop_current_amd64.deb')\n",
        "  os.system('apt install --assume-yes --fix-broken')\n",
        "\n",
        "\n",
        "  print(\"Installing Desktop Environment\")\n",
        "  os.system(\"export DEBIAN_FRONTEND=noninteractive\")\n",
        "  os.system(\"apt install --assume-yes xfce4 desktop-base xfce4-terminal\")\n",
        "  os.system(\"bash -c 'echo \\\"exec /etc/X11/Xsession /usr/bin/xfce4-session\\\" > /etc/chrome-remote-desktop-session'\")\n",
        "  os.system(\"apt remove --assume-yes gnome-terminal\")\n",
        "  os.system(\"apt install --assume-yes xscreensaver\")\n",
        "  os.system(\"systemctl disable lightdm.service\")\n",
        "\n",
        "  print(\"Finalizing\")\n",
        "  os.system(\"apt install firefox\")\n",
        "  os.system(\"groupadd -g 50000 chrome-remote-desktop\")\n",
        "        \n",
        "  try:\n",
        "        os.system(f\"adduser {username} chrome-remote-desktop\")\n",
        "        command = f\"{CRP} --pin={Pin}\"\n",
        "        os.system(f\"su - {username} -c '{command}'\")\n",
        "        os.system(\"service chrome-remote-desktop start\")\n",
        "        print(\"Finished Succesfully\")\n",
        "  except NameError as e:\n",
        "        print(\"'username' variable not found, Create a user first\")\n"
      ],
      "metadata": {
        "cellView": "form",
        "id": "ylbvnch6V4Y4"
      },
      "execution_count": null,
      "outputs": []
    }
  ]
}